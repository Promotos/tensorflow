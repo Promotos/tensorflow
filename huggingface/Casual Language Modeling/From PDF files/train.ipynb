{
 "cells": [
  {
   "cell_type": "code",
   "execution_count": 4,
   "metadata": {},
   "outputs": [],
   "source": [
    "from transformers import TextDataset, DataCollatorForLanguageModeling\n",
    "from transformers import GPT2Tokenizer, GPT2LMHeadModel\n",
    "from transformers import Trainer, TrainingArguments"
   ]
  },
  {
   "cell_type": "code",
   "execution_count": 5,
   "metadata": {},
   "outputs": [],
   "source": [
    "def load_dataset(file_path, tokenizer, block_size = 128):\n",
    "    dataset = TextDataset(\n",
    "        tokenizer = tokenizer,\n",
    "        file_path = file_path,\n",
    "        block_size = block_size,\n",
    "    )\n",
    "    return dataset\n",
    "\n",
    "\n",
    "def load_data_collator(tokenizer, mlm = False):\n",
    "    data_collator = DataCollatorForLanguageModeling(\n",
    "        tokenizer=tokenizer, \n",
    "        mlm=mlm,\n",
    "    )\n",
    "    return data_collator\n",
    "\n",
    "\n",
    "def train(train_file_path,model_name,\n",
    "          output_dir,\n",
    "          overwrite_output_dir,\n",
    "          per_device_train_batch_size,\n",
    "          num_train_epochs,\n",
    "          save_steps=500):\n",
    "  tokenizer = GPT2Tokenizer.from_pretrained(model_name)\n",
    "  train_dataset = load_dataset(train_file_path, tokenizer)\n",
    "  data_collator = load_data_collator(tokenizer)\n",
    "\n",
    "  tokenizer.save_pretrained(output_dir)\n",
    "      \n",
    "  model = GPT2LMHeadModel.from_pretrained(model_name)\n",
    "\n",
    "  model.save_pretrained(output_dir)\n",
    "\n",
    "  training_args = TrainingArguments(\n",
    "          output_dir=output_dir,\n",
    "          overwrite_output_dir=overwrite_output_dir,\n",
    "          per_device_train_batch_size=per_device_train_batch_size,\n",
    "          num_train_epochs=num_train_epochs,\n",
    "          save_strategy=\"steps\",\n",
    "          save_steps=save_steps,\n",
    "          save_total_limit=10,\n",
    "          resume_from_checkpoint=True,\n",
    "          #no_cuda=True,\n",
    "      )\n",
    "\n",
    "  trainer = Trainer(\n",
    "          model=model,\n",
    "          args=training_args,\n",
    "          data_collator=data_collator,\n",
    "          train_dataset=train_dataset,\n",
    "  )\n",
    "      \n",
    "  trainer.train()\n",
    "  trainer.save_model()"
   ]
  },
  {
   "cell_type": "code",
   "execution_count": 6,
   "metadata": {},
   "outputs": [
    {
     "name": "stderr",
     "output_type": "stream",
     "text": [
      "c:\\Python310\\lib\\site-packages\\transformers\\optimization.py:306: FutureWarning: This implementation of AdamW is deprecated and will be removed in a future version. Use the PyTorch implementation torch.optim.AdamW instead, or set `no_deprecation_warning=True` to disable this warning\n",
      "  warnings.warn(\n",
      "***** Running training *****\n",
      "  Num examples = 98303\n",
      "  Num Epochs = 5\n",
      "  Instantaneous batch size per device = 4\n",
      "  Total train batch size (w. parallel, distributed & accumulation) = 4\n",
      "  Gradient Accumulation steps = 1\n",
      "  Total optimization steps = 122880\n",
      "  Number of trainable parameters = 124439808\n"
     ]
    },
    {
     "data": {
      "application/vnd.jupyter.widget-view+json": {
       "model_id": "c851b36f5f29456a8d6c3e588c6e116a",
       "version_major": 2,
       "version_minor": 0
      },
      "text/plain": [
       "  0%|          | 0/122880 [00:00<?, ?it/s]"
      ]
     },
     "metadata": {},
     "output_type": "display_data"
    },
    {
     "name": "stderr",
     "output_type": "stream",
     "text": [
      "Saving model checkpoint to model/checkpoint-100\n",
      "Configuration saved in model/checkpoint-100\\config.json\n",
      "Configuration saved in model/checkpoint-100\\generation_config.json\n",
      "Model weights saved in model/checkpoint-100\\pytorch_model.bin\n",
      "Saving model checkpoint to model/checkpoint-200\n",
      "Configuration saved in model/checkpoint-200\\config.json\n",
      "Configuration saved in model/checkpoint-200\\generation_config.json\n",
      "Model weights saved in model/checkpoint-200\\pytorch_model.bin\n",
      "Saving model checkpoint to model/checkpoint-300\n",
      "Configuration saved in model/checkpoint-300\\config.json\n",
      "Configuration saved in model/checkpoint-300\\generation_config.json\n",
      "Model weights saved in model/checkpoint-300\\pytorch_model.bin\n",
      "Saving model checkpoint to model/checkpoint-400\n",
      "Configuration saved in model/checkpoint-400\\config.json\n",
      "Configuration saved in model/checkpoint-400\\generation_config.json\n",
      "Model weights saved in model/checkpoint-400\\pytorch_model.bin\n",
      "Saving model checkpoint to model/checkpoint-500\n",
      "Configuration saved in model/checkpoint-500\\config.json\n",
      "Configuration saved in model/checkpoint-500\\generation_config.json\n"
     ]
    },
    {
     "name": "stdout",
     "output_type": "stream",
     "text": [
      "{'loss': 2.8102, 'learning_rate': 4.979654947916667e-05, 'epoch': 0.02}\n"
     ]
    },
    {
     "name": "stderr",
     "output_type": "stream",
     "text": [
      "Model weights saved in model/checkpoint-500\\pytorch_model.bin\n",
      "Saving model checkpoint to model/checkpoint-600\n",
      "Configuration saved in model/checkpoint-600\\config.json\n",
      "Configuration saved in model/checkpoint-600\\generation_config.json\n",
      "Model weights saved in model/checkpoint-600\\pytorch_model.bin\n",
      "Saving model checkpoint to model/checkpoint-700\n",
      "Configuration saved in model/checkpoint-700\\config.json\n",
      "Configuration saved in model/checkpoint-700\\generation_config.json\n",
      "Model weights saved in model/checkpoint-700\\pytorch_model.bin\n",
      "Saving model checkpoint to model/checkpoint-800\n",
      "Configuration saved in model/checkpoint-800\\config.json\n",
      "Configuration saved in model/checkpoint-800\\generation_config.json\n",
      "Model weights saved in model/checkpoint-800\\pytorch_model.bin\n",
      "Saving model checkpoint to model/checkpoint-900\n",
      "Configuration saved in model/checkpoint-900\\config.json\n",
      "Configuration saved in model/checkpoint-900\\generation_config.json\n",
      "Model weights saved in model/checkpoint-900\\pytorch_model.bin\n",
      "Saving model checkpoint to model/checkpoint-1000\n",
      "Configuration saved in model/checkpoint-1000\\config.json\n",
      "Configuration saved in model/checkpoint-1000\\generation_config.json\n"
     ]
    },
    {
     "name": "stdout",
     "output_type": "stream",
     "text": [
      "{'loss': 2.2139, 'learning_rate': 4.959309895833333e-05, 'epoch': 0.04}\n"
     ]
    },
    {
     "name": "stderr",
     "output_type": "stream",
     "text": [
      "Model weights saved in model/checkpoint-1000\\pytorch_model.bin\n",
      "Saving model checkpoint to model/checkpoint-1100\n",
      "Configuration saved in model/checkpoint-1100\\config.json\n",
      "Configuration saved in model/checkpoint-1100\\generation_config.json\n",
      "Model weights saved in model/checkpoint-1100\\pytorch_model.bin\n",
      "Deleting older checkpoint [model\\checkpoint-100] due to args.save_total_limit\n",
      "Saving model checkpoint to model/checkpoint-1200\n",
      "Configuration saved in model/checkpoint-1200\\config.json\n",
      "Configuration saved in model/checkpoint-1200\\generation_config.json\n",
      "Model weights saved in model/checkpoint-1200\\pytorch_model.bin\n",
      "Deleting older checkpoint [model\\checkpoint-200] due to args.save_total_limit\n",
      "Saving model checkpoint to model/checkpoint-1300\n",
      "Configuration saved in model/checkpoint-1300\\config.json\n",
      "Configuration saved in model/checkpoint-1300\\generation_config.json\n",
      "Model weights saved in model/checkpoint-1300\\pytorch_model.bin\n",
      "Deleting older checkpoint [model\\checkpoint-300] due to args.save_total_limit\n",
      "Saving model checkpoint to model/checkpoint-1400\n",
      "Configuration saved in model/checkpoint-1400\\config.json\n",
      "Configuration saved in model/checkpoint-1400\\generation_config.json\n",
      "Model weights saved in model/checkpoint-1400\\pytorch_model.bin\n",
      "Deleting older checkpoint [model\\checkpoint-400] due to args.save_total_limit\n",
      "Saving model checkpoint to model/checkpoint-1500\n",
      "Configuration saved in model/checkpoint-1500\\config.json\n",
      "Configuration saved in model/checkpoint-1500\\generation_config.json\n"
     ]
    },
    {
     "name": "stdout",
     "output_type": "stream",
     "text": [
      "{'loss': 1.9944, 'learning_rate': 4.93896484375e-05, 'epoch': 0.06}\n"
     ]
    },
    {
     "name": "stderr",
     "output_type": "stream",
     "text": [
      "Model weights saved in model/checkpoint-1500\\pytorch_model.bin\n",
      "Deleting older checkpoint [model\\checkpoint-500] due to args.save_total_limit\n",
      "Saving model checkpoint to model/checkpoint-1600\n",
      "Configuration saved in model/checkpoint-1600\\config.json\n",
      "Configuration saved in model/checkpoint-1600\\generation_config.json\n",
      "Model weights saved in model/checkpoint-1600\\pytorch_model.bin\n",
      "Deleting older checkpoint [model\\checkpoint-600] due to args.save_total_limit\n",
      "Saving model checkpoint to model/checkpoint-1700\n",
      "Configuration saved in model/checkpoint-1700\\config.json\n",
      "Configuration saved in model/checkpoint-1700\\generation_config.json\n",
      "Model weights saved in model/checkpoint-1700\\pytorch_model.bin\n",
      "Deleting older checkpoint [model\\checkpoint-700] due to args.save_total_limit\n",
      "Saving model checkpoint to model/checkpoint-1800\n",
      "Configuration saved in model/checkpoint-1800\\config.json\n",
      "Configuration saved in model/checkpoint-1800\\generation_config.json\n",
      "Model weights saved in model/checkpoint-1800\\pytorch_model.bin\n",
      "Deleting older checkpoint [model\\checkpoint-800] due to args.save_total_limit\n",
      "Saving model checkpoint to model/checkpoint-1900\n",
      "Configuration saved in model/checkpoint-1900\\config.json\n",
      "Configuration saved in model/checkpoint-1900\\generation_config.json\n",
      "Model weights saved in model/checkpoint-1900\\pytorch_model.bin\n",
      "Deleting older checkpoint [model\\checkpoint-900] due to args.save_total_limit\n",
      "Saving model checkpoint to model/checkpoint-2000\n",
      "Configuration saved in model/checkpoint-2000\\config.json\n",
      "Configuration saved in model/checkpoint-2000\\generation_config.json\n"
     ]
    },
    {
     "name": "stdout",
     "output_type": "stream",
     "text": [
      "{'loss': 1.89, 'learning_rate': 4.918619791666667e-05, 'epoch': 0.08}\n"
     ]
    },
    {
     "name": "stderr",
     "output_type": "stream",
     "text": [
      "Model weights saved in model/checkpoint-2000\\pytorch_model.bin\n",
      "Deleting older checkpoint [model\\checkpoint-1000] due to args.save_total_limit\n",
      "Saving model checkpoint to model/checkpoint-2100\n",
      "Configuration saved in model/checkpoint-2100\\config.json\n",
      "Configuration saved in model/checkpoint-2100\\generation_config.json\n",
      "Model weights saved in model/checkpoint-2100\\pytorch_model.bin\n",
      "Deleting older checkpoint [model\\checkpoint-1100] due to args.save_total_limit\n",
      "Saving model checkpoint to model/checkpoint-2200\n",
      "Configuration saved in model/checkpoint-2200\\config.json\n",
      "Configuration saved in model/checkpoint-2200\\generation_config.json\n",
      "Model weights saved in model/checkpoint-2200\\pytorch_model.bin\n",
      "Deleting older checkpoint [model\\checkpoint-1200] due to args.save_total_limit\n",
      "Saving model checkpoint to model/checkpoint-2300\n",
      "Configuration saved in model/checkpoint-2300\\config.json\n",
      "Configuration saved in model/checkpoint-2300\\generation_config.json\n",
      "Model weights saved in model/checkpoint-2300\\pytorch_model.bin\n",
      "Deleting older checkpoint [model\\checkpoint-1300] due to args.save_total_limit\n",
      "Saving model checkpoint to model/checkpoint-2400\n",
      "Configuration saved in model/checkpoint-2400\\config.json\n",
      "Configuration saved in model/checkpoint-2400\\generation_config.json\n",
      "Model weights saved in model/checkpoint-2400\\pytorch_model.bin\n",
      "Deleting older checkpoint [model\\checkpoint-1400] due to args.save_total_limit\n",
      "Saving model checkpoint to model/checkpoint-2500\n",
      "Configuration saved in model/checkpoint-2500\\config.json\n",
      "Configuration saved in model/checkpoint-2500\\generation_config.json\n"
     ]
    },
    {
     "name": "stdout",
     "output_type": "stream",
     "text": [
      "{'loss': 1.7718, 'learning_rate': 4.898274739583333e-05, 'epoch': 0.1}\n"
     ]
    },
    {
     "name": "stderr",
     "output_type": "stream",
     "text": [
      "Model weights saved in model/checkpoint-2500\\pytorch_model.bin\n",
      "Deleting older checkpoint [model\\checkpoint-1500] due to args.save_total_limit\n",
      "Saving model checkpoint to model/checkpoint-2600\n",
      "Configuration saved in model/checkpoint-2600\\config.json\n",
      "Configuration saved in model/checkpoint-2600\\generation_config.json\n",
      "Model weights saved in model/checkpoint-2600\\pytorch_model.bin\n",
      "Deleting older checkpoint [model\\checkpoint-1600] due to args.save_total_limit\n",
      "Saving model checkpoint to model/checkpoint-2700\n",
      "Configuration saved in model/checkpoint-2700\\config.json\n",
      "Configuration saved in model/checkpoint-2700\\generation_config.json\n",
      "Model weights saved in model/checkpoint-2700\\pytorch_model.bin\n",
      "Deleting older checkpoint [model\\checkpoint-1700] due to args.save_total_limit\n",
      "Saving model checkpoint to model/checkpoint-2800\n",
      "Configuration saved in model/checkpoint-2800\\config.json\n",
      "Configuration saved in model/checkpoint-2800\\generation_config.json\n",
      "Model weights saved in model/checkpoint-2800\\pytorch_model.bin\n",
      "Deleting older checkpoint [model\\checkpoint-1800] due to args.save_total_limit\n",
      "Saving model checkpoint to model/checkpoint-2900\n",
      "Configuration saved in model/checkpoint-2900\\config.json\n",
      "Configuration saved in model/checkpoint-2900\\generation_config.json\n",
      "Model weights saved in model/checkpoint-2900\\pytorch_model.bin\n",
      "Deleting older checkpoint [model\\checkpoint-1900] due to args.save_total_limit\n",
      "Saving model checkpoint to model/checkpoint-3000\n",
      "Configuration saved in model/checkpoint-3000\\config.json\n",
      "Configuration saved in model/checkpoint-3000\\generation_config.json\n"
     ]
    },
    {
     "name": "stdout",
     "output_type": "stream",
     "text": [
      "{'loss': 1.7017, 'learning_rate': 4.8779296875e-05, 'epoch': 0.12}\n"
     ]
    },
    {
     "name": "stderr",
     "output_type": "stream",
     "text": [
      "Model weights saved in model/checkpoint-3000\\pytorch_model.bin\n",
      "Deleting older checkpoint [model\\checkpoint-2000] due to args.save_total_limit\n",
      "Saving model checkpoint to model/checkpoint-3100\n",
      "Configuration saved in model/checkpoint-3100\\config.json\n",
      "Configuration saved in model/checkpoint-3100\\generation_config.json\n",
      "Model weights saved in model/checkpoint-3100\\pytorch_model.bin\n",
      "Deleting older checkpoint [model\\checkpoint-2100] due to args.save_total_limit\n",
      "Saving model checkpoint to model/checkpoint-3200\n",
      "Configuration saved in model/checkpoint-3200\\config.json\n",
      "Configuration saved in model/checkpoint-3200\\generation_config.json\n",
      "Model weights saved in model/checkpoint-3200\\pytorch_model.bin\n",
      "Deleting older checkpoint [model\\checkpoint-2200] due to args.save_total_limit\n",
      "Saving model checkpoint to model/checkpoint-3300\n",
      "Configuration saved in model/checkpoint-3300\\config.json\n",
      "Configuration saved in model/checkpoint-3300\\generation_config.json\n",
      "Model weights saved in model/checkpoint-3300\\pytorch_model.bin\n",
      "Deleting older checkpoint [model\\checkpoint-2300] due to args.save_total_limit\n",
      "Saving model checkpoint to model/checkpoint-3400\n",
      "Configuration saved in model/checkpoint-3400\\config.json\n",
      "Configuration saved in model/checkpoint-3400\\generation_config.json\n",
      "Model weights saved in model/checkpoint-3400\\pytorch_model.bin\n",
      "Deleting older checkpoint [model\\checkpoint-2400] due to args.save_total_limit\n",
      "Saving model checkpoint to model/checkpoint-3500\n",
      "Configuration saved in model/checkpoint-3500\\config.json\n",
      "Configuration saved in model/checkpoint-3500\\generation_config.json\n"
     ]
    },
    {
     "name": "stdout",
     "output_type": "stream",
     "text": [
      "{'loss': 1.636, 'learning_rate': 4.857584635416667e-05, 'epoch': 0.14}\n"
     ]
    },
    {
     "name": "stderr",
     "output_type": "stream",
     "text": [
      "Model weights saved in model/checkpoint-3500\\pytorch_model.bin\n",
      "Deleting older checkpoint [model\\checkpoint-2500] due to args.save_total_limit\n",
      "Saving model checkpoint to model/checkpoint-3600\n",
      "Configuration saved in model/checkpoint-3600\\config.json\n",
      "Configuration saved in model/checkpoint-3600\\generation_config.json\n",
      "Model weights saved in model/checkpoint-3600\\pytorch_model.bin\n",
      "Deleting older checkpoint [model\\checkpoint-2600] due to args.save_total_limit\n",
      "Saving model checkpoint to model/checkpoint-3700\n",
      "Configuration saved in model/checkpoint-3700\\config.json\n",
      "Configuration saved in model/checkpoint-3700\\generation_config.json\n",
      "Model weights saved in model/checkpoint-3700\\pytorch_model.bin\n",
      "Deleting older checkpoint [model\\checkpoint-2700] due to args.save_total_limit\n",
      "Saving model checkpoint to model/checkpoint-3800\n",
      "Configuration saved in model/checkpoint-3800\\config.json\n",
      "Configuration saved in model/checkpoint-3800\\generation_config.json\n",
      "Model weights saved in model/checkpoint-3800\\pytorch_model.bin\n",
      "Deleting older checkpoint [model\\checkpoint-2800] due to args.save_total_limit\n",
      "Saving model checkpoint to model/checkpoint-3900\n",
      "Configuration saved in model/checkpoint-3900\\config.json\n",
      "Configuration saved in model/checkpoint-3900\\generation_config.json\n",
      "Model weights saved in model/checkpoint-3900\\pytorch_model.bin\n",
      "Deleting older checkpoint [model\\checkpoint-2900] due to args.save_total_limit\n",
      "Saving model checkpoint to model/checkpoint-4000\n",
      "Configuration saved in model/checkpoint-4000\\config.json\n",
      "Configuration saved in model/checkpoint-4000\\generation_config.json\n"
     ]
    },
    {
     "name": "stdout",
     "output_type": "stream",
     "text": [
      "{'loss': 1.5902, 'learning_rate': 4.837239583333333e-05, 'epoch': 0.16}\n"
     ]
    },
    {
     "name": "stderr",
     "output_type": "stream",
     "text": [
      "Model weights saved in model/checkpoint-4000\\pytorch_model.bin\n",
      "Deleting older checkpoint [model\\checkpoint-3000] due to args.save_total_limit\n",
      "Saving model checkpoint to model/checkpoint-4100\n",
      "Configuration saved in model/checkpoint-4100\\config.json\n",
      "Configuration saved in model/checkpoint-4100\\generation_config.json\n",
      "Model weights saved in model/checkpoint-4100\\pytorch_model.bin\n",
      "Deleting older checkpoint [model\\checkpoint-3100] due to args.save_total_limit\n",
      "Saving model checkpoint to model/checkpoint-4200\n",
      "Configuration saved in model/checkpoint-4200\\config.json\n",
      "Configuration saved in model/checkpoint-4200\\generation_config.json\n",
      "Model weights saved in model/checkpoint-4200\\pytorch_model.bin\n",
      "Deleting older checkpoint [model\\checkpoint-3200] due to args.save_total_limit\n",
      "Saving model checkpoint to model/checkpoint-4300\n",
      "Configuration saved in model/checkpoint-4300\\config.json\n",
      "Configuration saved in model/checkpoint-4300\\generation_config.json\n",
      "Model weights saved in model/checkpoint-4300\\pytorch_model.bin\n",
      "Deleting older checkpoint [model\\checkpoint-3300] due to args.save_total_limit\n",
      "Saving model checkpoint to model/checkpoint-4400\n",
      "Configuration saved in model/checkpoint-4400\\config.json\n",
      "Configuration saved in model/checkpoint-4400\\generation_config.json\n",
      "Model weights saved in model/checkpoint-4400\\pytorch_model.bin\n",
      "Deleting older checkpoint [model\\checkpoint-3400] due to args.save_total_limit\n",
      "Saving model checkpoint to model/checkpoint-4500\n",
      "Configuration saved in model/checkpoint-4500\\config.json\n",
      "Configuration saved in model/checkpoint-4500\\generation_config.json\n"
     ]
    },
    {
     "name": "stdout",
     "output_type": "stream",
     "text": [
      "{'loss': 1.5665, 'learning_rate': 4.81689453125e-05, 'epoch': 0.18}\n"
     ]
    },
    {
     "name": "stderr",
     "output_type": "stream",
     "text": [
      "Model weights saved in model/checkpoint-4500\\pytorch_model.bin\n",
      "Deleting older checkpoint [model\\checkpoint-3500] due to args.save_total_limit\n",
      "Saving model checkpoint to model/checkpoint-4600\n",
      "Configuration saved in model/checkpoint-4600\\config.json\n",
      "Configuration saved in model/checkpoint-4600\\generation_config.json\n",
      "Model weights saved in model/checkpoint-4600\\pytorch_model.bin\n",
      "Deleting older checkpoint [model\\checkpoint-3600] due to args.save_total_limit\n",
      "Saving model checkpoint to model/checkpoint-4700\n",
      "Configuration saved in model/checkpoint-4700\\config.json\n",
      "Configuration saved in model/checkpoint-4700\\generation_config.json\n",
      "Model weights saved in model/checkpoint-4700\\pytorch_model.bin\n",
      "Deleting older checkpoint [model\\checkpoint-3700] due to args.save_total_limit\n",
      "Saving model checkpoint to model/checkpoint-4800\n",
      "Configuration saved in model/checkpoint-4800\\config.json\n",
      "Configuration saved in model/checkpoint-4800\\generation_config.json\n",
      "Model weights saved in model/checkpoint-4800\\pytorch_model.bin\n",
      "Deleting older checkpoint [model\\checkpoint-3800] due to args.save_total_limit\n",
      "Saving model checkpoint to model/checkpoint-4900\n",
      "Configuration saved in model/checkpoint-4900\\config.json\n",
      "Configuration saved in model/checkpoint-4900\\generation_config.json\n",
      "Model weights saved in model/checkpoint-4900\\pytorch_model.bin\n",
      "Deleting older checkpoint [model\\checkpoint-3900] due to args.save_total_limit\n",
      "Saving model checkpoint to model/checkpoint-5000\n",
      "Configuration saved in model/checkpoint-5000\\config.json\n",
      "Configuration saved in model/checkpoint-5000\\generation_config.json\n"
     ]
    },
    {
     "name": "stdout",
     "output_type": "stream",
     "text": [
      "{'loss': 1.5289, 'learning_rate': 4.796549479166667e-05, 'epoch': 0.2}\n"
     ]
    },
    {
     "name": "stderr",
     "output_type": "stream",
     "text": [
      "Model weights saved in model/checkpoint-5000\\pytorch_model.bin\n",
      "Deleting older checkpoint [model\\checkpoint-4000] due to args.save_total_limit\n",
      "Saving model checkpoint to model/checkpoint-5100\n",
      "Configuration saved in model/checkpoint-5100\\config.json\n",
      "Configuration saved in model/checkpoint-5100\\generation_config.json\n",
      "Model weights saved in model/checkpoint-5100\\pytorch_model.bin\n",
      "Deleting older checkpoint [model\\checkpoint-4100] due to args.save_total_limit\n",
      "Saving model checkpoint to model/checkpoint-5200\n",
      "Configuration saved in model/checkpoint-5200\\config.json\n",
      "Configuration saved in model/checkpoint-5200\\generation_config.json\n",
      "Model weights saved in model/checkpoint-5200\\pytorch_model.bin\n",
      "Deleting older checkpoint [model\\checkpoint-4200] due to args.save_total_limit\n",
      "Saving model checkpoint to model/checkpoint-5300\n",
      "Configuration saved in model/checkpoint-5300\\config.json\n",
      "Configuration saved in model/checkpoint-5300\\generation_config.json\n",
      "Model weights saved in model/checkpoint-5300\\pytorch_model.bin\n",
      "Deleting older checkpoint [model\\checkpoint-4300] due to args.save_total_limit\n",
      "Saving model checkpoint to model/checkpoint-5400\n",
      "Configuration saved in model/checkpoint-5400\\config.json\n",
      "Configuration saved in model/checkpoint-5400\\generation_config.json\n",
      "Model weights saved in model/checkpoint-5400\\pytorch_model.bin\n",
      "Deleting older checkpoint [model\\checkpoint-4400] due to args.save_total_limit\n",
      "Saving model checkpoint to model/checkpoint-5500\n",
      "Configuration saved in model/checkpoint-5500\\config.json\n",
      "Configuration saved in model/checkpoint-5500\\generation_config.json\n"
     ]
    },
    {
     "name": "stdout",
     "output_type": "stream",
     "text": [
      "{'loss': 1.5005, 'learning_rate': 4.776204427083333e-05, 'epoch': 0.22}\n"
     ]
    },
    {
     "name": "stderr",
     "output_type": "stream",
     "text": [
      "Model weights saved in model/checkpoint-5500\\pytorch_model.bin\n",
      "Deleting older checkpoint [model\\checkpoint-4500] due to args.save_total_limit\n",
      "Saving model checkpoint to model/checkpoint-5600\n",
      "Configuration saved in model/checkpoint-5600\\config.json\n",
      "Configuration saved in model/checkpoint-5600\\generation_config.json\n",
      "Model weights saved in model/checkpoint-5600\\pytorch_model.bin\n",
      "Deleting older checkpoint [model\\checkpoint-4600] due to args.save_total_limit\n",
      "Saving model checkpoint to model/checkpoint-5700\n",
      "Configuration saved in model/checkpoint-5700\\config.json\n",
      "Configuration saved in model/checkpoint-5700\\generation_config.json\n",
      "Model weights saved in model/checkpoint-5700\\pytorch_model.bin\n",
      "Deleting older checkpoint [model\\checkpoint-4700] due to args.save_total_limit\n",
      "Saving model checkpoint to model/checkpoint-5800\n",
      "Configuration saved in model/checkpoint-5800\\config.json\n",
      "Configuration saved in model/checkpoint-5800\\generation_config.json\n",
      "Model weights saved in model/checkpoint-5800\\pytorch_model.bin\n",
      "Deleting older checkpoint [model\\checkpoint-4800] due to args.save_total_limit\n",
      "Saving model checkpoint to model/checkpoint-5900\n",
      "Configuration saved in model/checkpoint-5900\\config.json\n",
      "Configuration saved in model/checkpoint-5900\\generation_config.json\n",
      "Model weights saved in model/checkpoint-5900\\pytorch_model.bin\n",
      "Deleting older checkpoint [model\\checkpoint-4900] due to args.save_total_limit\n",
      "Saving model checkpoint to model/checkpoint-6000\n",
      "Configuration saved in model/checkpoint-6000\\config.json\n",
      "Configuration saved in model/checkpoint-6000\\generation_config.json\n"
     ]
    },
    {
     "name": "stdout",
     "output_type": "stream",
     "text": [
      "{'loss': 1.4415, 'learning_rate': 4.755859375e-05, 'epoch': 0.24}\n"
     ]
    },
    {
     "name": "stderr",
     "output_type": "stream",
     "text": [
      "Model weights saved in model/checkpoint-6000\\pytorch_model.bin\n",
      "Deleting older checkpoint [model\\checkpoint-5000] due to args.save_total_limit\n",
      "Saving model checkpoint to model/checkpoint-6100\n",
      "Configuration saved in model/checkpoint-6100\\config.json\n",
      "Configuration saved in model/checkpoint-6100\\generation_config.json\n",
      "Model weights saved in model/checkpoint-6100\\pytorch_model.bin\n",
      "Deleting older checkpoint [model\\checkpoint-5100] due to args.save_total_limit\n",
      "Saving model checkpoint to model/checkpoint-6200\n",
      "Configuration saved in model/checkpoint-6200\\config.json\n",
      "Configuration saved in model/checkpoint-6200\\generation_config.json\n",
      "Model weights saved in model/checkpoint-6200\\pytorch_model.bin\n",
      "Deleting older checkpoint [model\\checkpoint-5200] due to args.save_total_limit\n",
      "Saving model checkpoint to model/checkpoint-6300\n",
      "Configuration saved in model/checkpoint-6300\\config.json\n",
      "Configuration saved in model/checkpoint-6300\\generation_config.json\n",
      "Model weights saved in model/checkpoint-6300\\pytorch_model.bin\n",
      "Deleting older checkpoint [model\\checkpoint-5300] due to args.save_total_limit\n",
      "Saving model checkpoint to model/checkpoint-6400\n",
      "Configuration saved in model/checkpoint-6400\\config.json\n",
      "Configuration saved in model/checkpoint-6400\\generation_config.json\n",
      "Model weights saved in model/checkpoint-6400\\pytorch_model.bin\n",
      "Deleting older checkpoint [model\\checkpoint-5400] due to args.save_total_limit\n",
      "Saving model checkpoint to model/checkpoint-6500\n",
      "Configuration saved in model/checkpoint-6500\\config.json\n",
      "Configuration saved in model/checkpoint-6500\\generation_config.json\n"
     ]
    },
    {
     "name": "stdout",
     "output_type": "stream",
     "text": [
      "{'loss': 1.4653, 'learning_rate': 4.735514322916667e-05, 'epoch': 0.26}\n"
     ]
    },
    {
     "name": "stderr",
     "output_type": "stream",
     "text": [
      "Model weights saved in model/checkpoint-6500\\pytorch_model.bin\n",
      "Deleting older checkpoint [model\\checkpoint-5500] due to args.save_total_limit\n",
      "Saving model checkpoint to model/checkpoint-6600\n",
      "Configuration saved in model/checkpoint-6600\\config.json\n",
      "Configuration saved in model/checkpoint-6600\\generation_config.json\n",
      "Model weights saved in model/checkpoint-6600\\pytorch_model.bin\n",
      "Deleting older checkpoint [model\\checkpoint-5600] due to args.save_total_limit\n",
      "Saving model checkpoint to model/checkpoint-6700\n",
      "Configuration saved in model/checkpoint-6700\\config.json\n",
      "Configuration saved in model/checkpoint-6700\\generation_config.json\n",
      "Model weights saved in model/checkpoint-6700\\pytorch_model.bin\n",
      "Deleting older checkpoint [model\\checkpoint-5700] due to args.save_total_limit\n",
      "Saving model checkpoint to model/checkpoint-6800\n",
      "Configuration saved in model/checkpoint-6800\\config.json\n",
      "Configuration saved in model/checkpoint-6800\\generation_config.json\n",
      "Model weights saved in model/checkpoint-6800\\pytorch_model.bin\n",
      "Deleting older checkpoint [model\\checkpoint-5800] due to args.save_total_limit\n",
      "Saving model checkpoint to model/checkpoint-6900\n",
      "Configuration saved in model/checkpoint-6900\\config.json\n",
      "Configuration saved in model/checkpoint-6900\\generation_config.json\n",
      "Model weights saved in model/checkpoint-6900\\pytorch_model.bin\n",
      "Deleting older checkpoint [model\\checkpoint-5900] due to args.save_total_limit\n",
      "Saving model checkpoint to model/checkpoint-7000\n",
      "Configuration saved in model/checkpoint-7000\\config.json\n",
      "Configuration saved in model/checkpoint-7000\\generation_config.json\n"
     ]
    },
    {
     "name": "stdout",
     "output_type": "stream",
     "text": [
      "{'loss': 1.4042, 'learning_rate': 4.715169270833333e-05, 'epoch': 0.28}\n"
     ]
    },
    {
     "name": "stderr",
     "output_type": "stream",
     "text": [
      "Model weights saved in model/checkpoint-7000\\pytorch_model.bin\n",
      "Deleting older checkpoint [model\\checkpoint-6000] due to args.save_total_limit\n",
      "Saving model checkpoint to model/checkpoint-7100\n",
      "Configuration saved in model/checkpoint-7100\\config.json\n",
      "Configuration saved in model/checkpoint-7100\\generation_config.json\n",
      "Model weights saved in model/checkpoint-7100\\pytorch_model.bin\n",
      "Deleting older checkpoint [model\\checkpoint-6100] due to args.save_total_limit\n",
      "Saving model checkpoint to model/checkpoint-7200\n",
      "Configuration saved in model/checkpoint-7200\\config.json\n",
      "Configuration saved in model/checkpoint-7200\\generation_config.json\n",
      "Model weights saved in model/checkpoint-7200\\pytorch_model.bin\n",
      "Deleting older checkpoint [model\\checkpoint-6200] due to args.save_total_limit\n",
      "Saving model checkpoint to model/checkpoint-7300\n",
      "Configuration saved in model/checkpoint-7300\\config.json\n",
      "Configuration saved in model/checkpoint-7300\\generation_config.json\n",
      "Model weights saved in model/checkpoint-7300\\pytorch_model.bin\n",
      "Deleting older checkpoint [model\\checkpoint-6300] due to args.save_total_limit\n",
      "Saving model checkpoint to model/checkpoint-7400\n",
      "Configuration saved in model/checkpoint-7400\\config.json\n",
      "Configuration saved in model/checkpoint-7400\\generation_config.json\n",
      "Model weights saved in model/checkpoint-7400\\pytorch_model.bin\n",
      "Deleting older checkpoint [model\\checkpoint-6400] due to args.save_total_limit\n",
      "Saving model checkpoint to model/checkpoint-7500\n",
      "Configuration saved in model/checkpoint-7500\\config.json\n",
      "Configuration saved in model/checkpoint-7500\\generation_config.json\n"
     ]
    },
    {
     "name": "stdout",
     "output_type": "stream",
     "text": [
      "{'loss': 1.3993, 'learning_rate': 4.69482421875e-05, 'epoch': 0.31}\n"
     ]
    },
    {
     "name": "stderr",
     "output_type": "stream",
     "text": [
      "Model weights saved in model/checkpoint-7500\\pytorch_model.bin\n",
      "Deleting older checkpoint [model\\checkpoint-6500] due to args.save_total_limit\n",
      "Saving model checkpoint to model/checkpoint-7600\n",
      "Configuration saved in model/checkpoint-7600\\config.json\n",
      "Configuration saved in model/checkpoint-7600\\generation_config.json\n",
      "Model weights saved in model/checkpoint-7600\\pytorch_model.bin\n",
      "Deleting older checkpoint [model\\checkpoint-6600] due to args.save_total_limit\n",
      "Saving model checkpoint to model/checkpoint-7700\n",
      "Configuration saved in model/checkpoint-7700\\config.json\n",
      "Configuration saved in model/checkpoint-7700\\generation_config.json\n",
      "Model weights saved in model/checkpoint-7700\\pytorch_model.bin\n",
      "Deleting older checkpoint [model\\checkpoint-6700] due to args.save_total_limit\n",
      "Saving model checkpoint to model/checkpoint-7800\n",
      "Configuration saved in model/checkpoint-7800\\config.json\n",
      "Configuration saved in model/checkpoint-7800\\generation_config.json\n",
      "Model weights saved in model/checkpoint-7800\\pytorch_model.bin\n",
      "Deleting older checkpoint [model\\checkpoint-6800] due to args.save_total_limit\n",
      "Saving model checkpoint to model/checkpoint-7900\n",
      "Configuration saved in model/checkpoint-7900\\config.json\n",
      "Configuration saved in model/checkpoint-7900\\generation_config.json\n",
      "Model weights saved in model/checkpoint-7900\\pytorch_model.bin\n",
      "Deleting older checkpoint [model\\checkpoint-6900] due to args.save_total_limit\n"
     ]
    }
   ],
   "source": [
    "train(\n",
    "    train_file_path=\"Corpus.txt\",\n",
    "    model_name='gpt2',\n",
    "    output_dir='model/',\n",
    "    overwrite_output_dir=False,\n",
    "    per_device_train_batch_size=4,\n",
    "    num_train_epochs=5.0,\n",
    "    save_steps=500\n",
    ")"
   ]
  }
 ],
 "metadata": {
  "kernelspec": {
   "display_name": "Python 3",
   "language": "python",
   "name": "python3"
  },
  "language_info": {
   "codemirror_mode": {
    "name": "ipython",
    "version": 3
   },
   "file_extension": ".py",
   "mimetype": "text/x-python",
   "name": "python",
   "nbconvert_exporter": "python",
   "pygments_lexer": "ipython3",
   "version": "3.10.6"
  },
  "orig_nbformat": 4,
  "vscode": {
   "interpreter": {
    "hash": "369f2c481f4da34e4445cda3fffd2e751bd1c4d706f27375911949ba6bb62e1c"
   }
  }
 },
 "nbformat": 4,
 "nbformat_minor": 2
}
