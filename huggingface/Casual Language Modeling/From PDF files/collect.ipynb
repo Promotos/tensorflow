{
 "cells": [
  {
   "cell_type": "code",
   "execution_count": 3,
   "metadata": {},
   "outputs": [],
   "source": [
    "import glob\n",
    "\n",
    "text_data = open('Input.txt', 'w', encoding=\"ISO 8859-1\")\n",
    "for filename in glob.iglob(\"C:/Users/malachmann/git/mannheimer/eclipseWorkspace/Mannheimer-PREP/src-natural/\" + '**/*.*', recursive=True):\n",
    "     with open(filename, 'r', encoding=\"ISO 8859-1\") as file:\n",
    "        text_data.write(file.read())\n",
    "    \n",
    "text_data.close()"
   ]
  }
 ],
 "metadata": {
  "kernelspec": {
   "display_name": "Python 3",
   "language": "python",
   "name": "python3"
  },
  "language_info": {
   "codemirror_mode": {
    "name": "ipython",
    "version": 3
   },
   "file_extension": ".py",
   "mimetype": "text/x-python",
   "name": "python",
   "nbconvert_exporter": "python",
   "pygments_lexer": "ipython3",
   "version": "3.10.6"
  },
  "orig_nbformat": 4,
  "vscode": {
   "interpreter": {
    "hash": "369f2c481f4da34e4445cda3fffd2e751bd1c4d706f27375911949ba6bb62e1c"
   }
  }
 },
 "nbformat": 4,
 "nbformat_minor": 2
}
