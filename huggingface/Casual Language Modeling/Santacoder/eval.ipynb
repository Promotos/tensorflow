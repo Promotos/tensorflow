{
 "cells": [
  {
   "cell_type": "code",
   "execution_count": 37,
   "metadata": {},
   "outputs": [],
   "source": [
    "from transformers import AutoTokenizer, AutoModelForCausalLM\n",
    "from importlib.metadata import version\n",
    "import torch"
   ]
  },
  {
   "cell_type": "code",
   "execution_count": 38,
   "metadata": {},
   "outputs": [
    {
     "name": "stdout",
     "output_type": "stream",
     "text": [
      "torch 1.13.1+cu116\n",
      "transformers 4.26.0\n",
      "# of gpus:  1\n"
     ]
    }
   ],
   "source": [
    "print('torch', version('torch'))\n",
    "print('transformers', version('transformers'))\n",
    "print('# of gpus: ', torch.cuda.device_count())"
   ]
  },
  {
   "cell_type": "code",
   "execution_count": 39,
   "metadata": {},
   "outputs": [
    {
     "name": "stderr",
     "output_type": "stream",
     "text": [
      "Explicitly passing a `revision` is encouraged when loading a configuration with custom code to ensure no malicious code has been contributed in a newer revision.\n",
      "Explicitly passing a `revision` is encouraged when loading a model with custom code to ensure no malicious code has been contributed in a newer revision.\n"
     ]
    }
   ],
   "source": [
    "\n",
    "tokenizer = AutoTokenizer.from_pretrained(\"muhtasham/santacoder-finetuned-the-stack-cobol\")\n",
    "model = AutoModelForCausalLM.from_pretrained(\"muhtasham/santacoder-finetuned-the-stack-cobol\", trust_remote_code=True )\n",
    "#model = model.to('cuda:0')"
   ]
  },
  {
   "cell_type": "code",
   "execution_count": 43,
   "metadata": {},
   "outputs": [],
   "source": [
    "\n",
    "def generate_text(sequence, max_length):\n",
    "    print('User Input: ' + sequence + ' len:' + str(max_length))\n",
    "    ids = tokenizer.encode(f'{sequence}', return_tensors='pt')\n",
    "    final_outputs = model.generate(\n",
    "        ids,\n",
    "        do_sample=True,\n",
    "        max_length=max_length,\n",
    "        pad_token_id=model.config.eos_token_id,\n",
    "        top_k=50,\n",
    "        top_p=0.95,\n",
    "    )\n",
    "    print('---')\n",
    "    print(tokenizer.decode(final_outputs[0], skip_special_tokens=True))"
   ]
  },
  {
   "cell_type": "code",
   "execution_count": 45,
   "metadata": {},
   "outputs": [
    {
     "name": "stdout",
     "output_type": "stream",
     "text": [
      "User Input: read a workfile and print the lines len:150\n",
      "---\n",
      "read a workfile and print the lines')\n",
      "\tsys.stderr.write('To end, use CTRL-BREAK. Enter \"q\" to quit.\\n')\n",
      "\timport readline\n",
      "\tr = readline.set_history_length(100)\n",
      "\treadline.write_history_file(histfile)\n",
      "\treadline.set_history_max_length(100)\n",
      "\twhile 1:\n",
      "\t\tline = raw_input('> ')\n",
      "\t\tif not line:\n",
      "\t\t\tcontinue\n",
      "\t\tline = line.strip()\n",
      "\t\tif line == 'q' or line == 'quit':\n",
      "\t\t\tsys.stderr.write('bye.\\n')\n",
      "\t\t\tbreak\n",
      "\t\tif line ==\n"
     ]
    }
   ],
   "source": [
    "sequence = input()\n",
    "max_len = int(input())\n",
    "generate_text(sequence, max_len)\n"
   ]
  }
 ],
 "metadata": {
  "kernelspec": {
   "display_name": "Python 3",
   "language": "python",
   "name": "python3"
  },
  "language_info": {
   "codemirror_mode": {
    "name": "ipython",
    "version": 3
   },
   "file_extension": ".py",
   "mimetype": "text/x-python",
   "name": "python",
   "nbconvert_exporter": "python",
   "pygments_lexer": "ipython3",
   "version": "3.10.6"
  },
  "orig_nbformat": 4,
  "vscode": {
   "interpreter": {
    "hash": "369f2c481f4da34e4445cda3fffd2e751bd1c4d706f27375911949ba6bb62e1c"
   }
  }
 },
 "nbformat": 4,
 "nbformat_minor": 2
}
