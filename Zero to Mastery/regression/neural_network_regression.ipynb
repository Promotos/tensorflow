{
 "cells": [
  {
   "cell_type": "markdown",
   "metadata": {},
   "source": [
    "### Prediction a number based on combination of variables"
   ]
  },
  {
   "cell_type": "code",
   "execution_count": 1,
   "metadata": {},
   "outputs": [],
   "source": [
    "import tensorflow as tf"
   ]
  },
  {
   "cell_type": "code",
   "execution_count": 2,
   "metadata": {},
   "outputs": [
    {
     "data": {
      "text/plain": [
       "<matplotlib.collections.PathCollection at 0x1e5a10aeb90>"
      ]
     },
     "execution_count": 2,
     "metadata": {},
     "output_type": "execute_result"
    },
    {
     "data": {
      "image/png": "[encoded data removed]",
      "text/plain": [
       "<Figure size 432x288 with 1 Axes>"
      ]
     },
     "metadata": {
      "needs_background": "light"
     },
     "output_type": "display_data"
    }
   ],
   "source": [
    "# Create some data to view and fit\n",
    "import numpy as np\n",
    "import matplotlib.pyplot as plt\n",
    "\n",
    "# Create features\n",
    "x = np.array([-7.0, -4.0, -1.0, 2.0, 5.0, 8.0, 11.0, 14.0])\n",
    "\n",
    "# Create labels\n",
    "y = np.array([3.0,6.0, 9.0, 12.0, 15.0, 18.0, 21.0, 24.0])\n",
    "\n",
    "# Visualize it\n",
    "plt.scatter(x,y)"
   ]
  },
  {
   "cell_type": "code",
   "execution_count": 3,
   "metadata": {},
   "outputs": [
    {
     "data": {
      "text/plain": [
       "array([ True,  True,  True,  True,  True,  True,  True,  True])"
      ]
     },
     "execution_count": 3,
     "metadata": {},
     "output_type": "execute_result"
    }
   ],
   "source": [
    "y == x + 10"
   ]
  },
  {
   "cell_type": "code",
   "execution_count": 4,
   "metadata": {},
   "outputs": [
    {
     "data": {
      "text/plain": [
       "(<tf.Tensor: shape=(8,), dtype=float64, numpy=array([-7., -4., -1.,  2.,  5.,  8., 11., 14.])>,\n",
       " TensorShape([8]),\n",
       " <tf.Tensor: shape=(8,), dtype=float64, numpy=array([ 3.,  6.,  9., 12., 15., 18., 21., 24.])>,\n",
       " TensorShape([8]))"
      ]
     },
     "execution_count": 4,
     "metadata": {},
     "output_type": "execute_result"
    }
   ],
   "source": [
    "X = tf.constant(x)\n",
    "Y = tf.constant(y)\n",
    "X, X.shape,Y, Y.shape"
   ]
  },
  {
   "cell_type": "markdown",
   "metadata": {},
   "source": [
    "### Create a model"
   ]
  },
  {
   "cell_type": "markdown",
   "metadata": {},
   "source": [
    "1. Create a model\n",
    "2. Compiling the model - with loss function and optimizer\n",
    "3. Fitting a model"
   ]
  },
  {
   "cell_type": "code",
   "execution_count": 7,
   "metadata": {},
   "outputs": [
    {
     "name": "stdout",
     "output_type": "stream",
     "text": [
      "Epoch 1/5\n",
      "1/1 [==============================] - 0s 251ms/step - loss: 11.5048 - mae: 11.5048\n",
      "Epoch 2/5\n",
      "1/1 [==============================] - 0s 10ms/step - loss: 11.3723 - mae: 11.3723\n",
      "Epoch 3/5\n",
      "1/1 [==============================] - 0s 5ms/step - loss: 11.2398 - mae: 11.2398\n",
      "Epoch 4/5\n",
      "1/1 [==============================] - 0s 6ms/step - loss: 11.1073 - mae: 11.1073\n",
      "Epoch 5/5\n",
      "1/1 [==============================] - 0s 5ms/step - loss: 10.9748 - mae: 10.9748\n"
     ]
    },
    {
     "data": {
      "text/plain": [
       "<keras.callbacks.History at 0x1e5c62bd450>"
      ]
     },
     "execution_count": 7,
     "metadata": {},
     "output_type": "execute_result"
    }
   ],
   "source": [
    "tf.random.set_seed(42)\n",
    "\n",
    "# 1. Create model\n",
    "model = tf.keras.Sequential([\n",
    "    tf.keras.layers.Dense(1)\n",
    "])\n",
    "\n",
    "# 2. Model compile\n",
    "model.compile(\n",
    "    loss=tf.keras.losses.mae, # mae = mean absolute error\n",
    "    optimizer=tf.keras.optimizers.SGD(), # SGD = stochastic gradient descent\n",
    "    metrics=[\"mae\"]\n",
    ")\n",
    "\n",
    "# 3. Fit the model\n",
    "#model.fit(X,Y, epochs=5)\n",
    "model.fit(tf.expand_dims(x, axis=-1), y, epochs=5)"
   ]
  },
  {
   "cell_type": "code",
   "execution_count": 38,
   "metadata": {},
   "outputs": [
    {
     "name": "stdout",
     "output_type": "stream",
     "text": [
      "1/1 [==============================] - 0s 65ms/step\n"
     ]
    },
    {
     "data": {
      "text/plain": [
       "array([[29.007704]], dtype=float32)"
      ]
     },
     "execution_count": 38,
     "metadata": {},
     "output_type": "execute_result"
    }
   ],
   "source": [
    "# predict\n",
    "model.predict([17.0])"
   ]
  },
  {
   "cell_type": "markdown",
   "metadata": {},
   "source": [
    "### Improve the model"
   ]
  },
  {
   "cell_type": "code",
   "execution_count": 48,
   "metadata": {},
   "outputs": [
    {
     "name": "stdout",
     "output_type": "stream",
     "text": [
      "Epoch 1/100\n",
      "2/2 [==============================] - 0s 6ms/step - loss: 31.2542 - mae: 31.2542\n",
      "Epoch 2/100\n",
      "2/2 [==============================] - 0s 16ms/step - loss: 14.4163 - mae: 14.4163\n",
      "Epoch 3/100\n",
      "2/2 [==============================] - 0s 6ms/step - loss: 10.3483 - mae: 10.3483\n",
      "Epoch 4/100\n",
      "2/2 [==============================] - 0s 15ms/step - loss: 14.9605 - mae: 14.9605\n",
      "Epoch 5/100\n",
      "2/2 [==============================] - 0s 6ms/step - loss: 14.3327 - mae: 14.3327\n",
      "Epoch 6/100\n",
      "2/2 [==============================] - 0s 20ms/step - loss: 10.3061 - mae: 10.3061\n",
      "Epoch 7/100\n",
      "2/2 [==============================] - 0s 6ms/step - loss: 9.2676 - mae: 9.2676\n",
      "Epoch 8/100\n",
      "2/2 [==============================] - 0s 5ms/step - loss: 9.5697 - mae: 9.5697\n",
      "Epoch 9/100\n",
      "2/2 [==============================] - 0s 16ms/step - loss: 10.3703 - mae: 10.3703\n",
      "Epoch 10/100\n",
      "2/2 [==============================] - 0s 19ms/step - loss: 8.8094 - mae: 8.8094\n",
      "Epoch 11/100\n",
      "2/2 [==============================] - 0s 6ms/step - loss: 8.1235 - mae: 8.1235\n",
      "Epoch 12/100\n",
      "2/2 [==============================] - 0s 16ms/step - loss: 8.0830 - mae: 8.0830\n",
      "Epoch 13/100\n",
      "2/2 [==============================] - 0s 16ms/step - loss: 8.0784 - mae: 8.0784\n",
      "Epoch 14/100\n",
      "2/2 [==============================] - 0s 6ms/step - loss: 8.2754 - mae: 8.2754\n",
      "Epoch 15/100\n",
      "2/2 [==============================] - 0s 6ms/step - loss: 7.8495 - mae: 7.8495\n",
      "Epoch 16/100\n",
      "2/2 [==============================] - 0s 7ms/step - loss: 7.5691 - mae: 7.5691\n",
      "Epoch 17/100\n",
      "2/2 [==============================] - 0s 5ms/step - loss: 7.0659 - mae: 7.0659\n",
      "Epoch 18/100\n",
      "2/2 [==============================] - 0s 6ms/step - loss: 6.8145 - mae: 6.8145\n",
      "Epoch 19/100\n",
      "2/2 [==============================] - 0s 6ms/step - loss: 6.6847 - mae: 6.6847\n",
      "Epoch 20/100\n",
      "2/2 [==============================] - 0s 9ms/step - loss: 6.6796 - mae: 6.6796\n",
      "Epoch 21/100\n",
      "2/2 [==============================] - 0s 7ms/step - loss: 6.1130 - mae: 6.1130\n",
      "Epoch 22/100\n",
      "2/2 [==============================] - 0s 5ms/step - loss: 6.0409 - mae: 6.0409\n",
      "Epoch 23/100\n",
      "2/2 [==============================] - 0s 3ms/step - loss: 5.7763 - mae: 5.7763\n",
      "Epoch 24/100\n",
      "2/2 [==============================] - 0s 5ms/step - loss: 5.5559 - mae: 5.5559\n",
      "Epoch 25/100\n",
      "2/2 [==============================] - 0s 5ms/step - loss: 5.3559 - mae: 5.3559\n",
      "Epoch 26/100\n",
      "2/2 [==============================] - 0s 4ms/step - loss: 5.0894 - mae: 5.0894\n",
      "Epoch 27/100\n",
      "2/2 [==============================] - 0s 5ms/step - loss: 4.7449 - mae: 4.7449\n",
      "Epoch 28/100\n",
      "2/2 [==============================] - 0s 5ms/step - loss: 4.3704 - mae: 4.3704\n",
      "Epoch 29/100\n",
      "2/2 [==============================] - 0s 5ms/step - loss: 3.9850 - mae: 3.9850\n",
      "Epoch 30/100\n",
      "2/2 [==============================] - 0s 6ms/step - loss: 3.7092 - mae: 3.7092\n",
      "Epoch 31/100\n",
      "2/2 [==============================] - 0s 4ms/step - loss: 3.4007 - mae: 3.4007\n",
      "Epoch 32/100\n",
      "2/2 [==============================] - 0s 6ms/step - loss: 2.8237 - mae: 2.8237\n",
      "Epoch 33/100\n",
      "2/2 [==============================] - 0s 6ms/step - loss: 2.3765 - mae: 2.3765\n",
      "Epoch 34/100\n",
      "2/2 [==============================] - 0s 5ms/step - loss: 2.2479 - mae: 2.2479\n",
      "Epoch 35/100\n",
      "2/2 [==============================] - 0s 5ms/step - loss: 1.5306 - mae: 1.5306\n",
      "Epoch 36/100\n",
      "2/2 [==============================] - 0s 10ms/step - loss: 1.0330 - mae: 1.0330\n",
      "Epoch 37/100\n",
      "2/2 [==============================] - 0s 4ms/step - loss: 0.6050 - mae: 0.6050\n",
      "Epoch 38/100\n",
      "2/2 [==============================] - 0s 6ms/step - loss: 0.8305 - mae: 0.8305\n",
      "Epoch 39/100\n",
      "2/2 [==============================] - 0s 6ms/step - loss: 0.8583 - mae: 0.8583\n",
      "Epoch 40/100\n",
      "2/2 [==============================] - 0s 6ms/step - loss: 1.1253 - mae: 1.1253\n",
      "Epoch 41/100\n",
      "2/2 [==============================] - 0s 7ms/step - loss: 1.3376 - mae: 1.3376\n",
      "Epoch 42/100\n",
      "2/2 [==============================] - 0s 5ms/step - loss: 1.4609 - mae: 1.4609\n",
      "Epoch 43/100\n",
      "2/2 [==============================] - 0s 4ms/step - loss: 1.5548 - mae: 1.5548\n",
      "Epoch 44/100\n",
      "2/2 [==============================] - 0s 5ms/step - loss: 1.0888 - mae: 1.0888\n",
      "Epoch 45/100\n",
      "2/2 [==============================] - 0s 5ms/step - loss: 0.9056 - mae: 0.9056\n",
      "Epoch 46/100\n",
      "2/2 [==============================] - 0s 7ms/step - loss: 1.1242 - mae: 1.1242\n",
      "Epoch 47/100\n",
      "2/2 [==============================] - 0s 5ms/step - loss: 1.4064 - mae: 1.4064\n",
      "Epoch 48/100\n",
      "2/2 [==============================] - 0s 6ms/step - loss: 0.3601 - mae: 0.3601\n",
      "Epoch 49/100\n",
      "2/2 [==============================] - 0s 6ms/step - loss: 1.8799 - mae: 1.8799\n",
      "Epoch 50/100\n",
      "2/2 [==============================] - 0s 5ms/step - loss: 1.0484 - mae: 1.0484\n",
      "Epoch 51/100\n",
      "2/2 [==============================] - 0s 4ms/step - loss: 3.1697 - mae: 3.1697\n",
      "Epoch 52/100\n",
      "2/2 [==============================] - 0s 5ms/step - loss: 1.2010 - mae: 1.2010\n",
      "Epoch 53/100\n",
      "2/2 [==============================] - 0s 5ms/step - loss: 3.9321 - mae: 3.9321\n",
      "Epoch 54/100\n",
      "2/2 [==============================] - 0s 9ms/step - loss: 1.6626 - mae: 1.6626\n",
      "Epoch 55/100\n",
      "2/2 [==============================] - 0s 5ms/step - loss: 3.4507 - mae: 3.4507\n",
      "Epoch 56/100\n",
      "2/2 [==============================] - 0s 12ms/step - loss: 1.5568 - mae: 1.5568\n",
      "Epoch 57/100\n",
      "2/2 [==============================] - 0s 4ms/step - loss: 1.9529 - mae: 1.9529\n",
      "Epoch 58/100\n",
      "2/2 [==============================] - 0s 7ms/step - loss: 0.8934 - mae: 0.8934\n",
      "Epoch 59/100\n",
      "2/2 [==============================] - 0s 5ms/step - loss: 1.0221 - mae: 1.0221\n",
      "Epoch 60/100\n",
      "2/2 [==============================] - 0s 5ms/step - loss: 1.8851 - mae: 1.8851\n",
      "Epoch 61/100\n",
      "2/2 [==============================] - 0s 6ms/step - loss: 1.1271 - mae: 1.1271\n",
      "Epoch 62/100\n",
      "2/2 [==============================] - 0s 6ms/step - loss: 2.8443 - mae: 2.8443\n",
      "Epoch 63/100\n",
      "2/2 [==============================] - 0s 5ms/step - loss: 1.2397 - mae: 1.2397\n",
      "Epoch 64/100\n",
      "2/2 [==============================] - 0s 6ms/step - loss: 4.0836 - mae: 4.0836\n",
      "Epoch 65/100\n",
      "2/2 [==============================] - 0s 6ms/step - loss: 1.9531 - mae: 1.9531\n",
      "Epoch 66/100\n",
      "2/2 [==============================] - 0s 7ms/step - loss: 2.8857 - mae: 2.8857\n",
      "Epoch 67/100\n",
      "2/2 [==============================] - 0s 6ms/step - loss: 2.6352 - mae: 2.6352\n",
      "Epoch 68/100\n",
      "2/2 [==============================] - 0s 8ms/step - loss: 1.7046 - mae: 1.7046\n",
      "Epoch 69/100\n",
      "2/2 [==============================] - 0s 6ms/step - loss: 1.4576 - mae: 1.4576\n",
      "Epoch 70/100\n",
      "2/2 [==============================] - 0s 5ms/step - loss: 2.5338 - mae: 2.5338\n",
      "Epoch 71/100\n",
      "2/2 [==============================] - 0s 5ms/step - loss: 2.5709 - mae: 2.5709\n",
      "Epoch 72/100\n",
      "2/2 [==============================] - 0s 5ms/step - loss: 1.1912 - mae: 1.1912\n",
      "Epoch 73/100\n",
      "2/2 [==============================] - 0s 11ms/step - loss: 1.0390 - mae: 1.0390\n",
      "Epoch 74/100\n",
      "2/2 [==============================] - 0s 5ms/step - loss: 0.9665 - mae: 0.9665\n",
      "Epoch 75/100\n",
      "2/2 [==============================] - 0s 6ms/step - loss: 0.9701 - mae: 0.9701\n",
      "Epoch 76/100\n",
      "2/2 [==============================] - 0s 5ms/step - loss: 0.7773 - mae: 0.7773\n",
      "Epoch 77/100\n",
      "2/2 [==============================] - 0s 6ms/step - loss: 2.3570 - mae: 2.3570\n",
      "Epoch 78/100\n",
      "2/2 [==============================] - 0s 5ms/step - loss: 0.9764 - mae: 0.9764\n",
      "Epoch 79/100\n",
      "2/2 [==============================] - 0s 5ms/step - loss: 3.9969 - mae: 3.9969\n",
      "Epoch 80/100\n",
      "2/2 [==============================] - 0s 4ms/step - loss: 2.3008 - mae: 2.3008\n",
      "Epoch 81/100\n",
      "2/2 [==============================] - 0s 11ms/step - loss: 2.6605 - mae: 2.6605\n",
      "Epoch 82/100\n",
      "2/2 [==============================] - 0s 5ms/step - loss: 3.6163 - mae: 3.6163\n",
      "Epoch 83/100\n",
      "2/2 [==============================] - 0s 12ms/step - loss: 1.2833 - mae: 1.2833\n",
      "Epoch 84/100\n",
      "2/2 [==============================] - 0s 6ms/step - loss: 3.1489 - mae: 3.1489\n",
      "Epoch 85/100\n",
      "2/2 [==============================] - 0s 6ms/step - loss: 1.5050 - mae: 1.5050\n",
      "Epoch 86/100\n",
      "2/2 [==============================] - 0s 6ms/step - loss: 3.1315 - mae: 3.1315\n",
      "Epoch 87/100\n",
      "2/2 [==============================] - 0s 5ms/step - loss: 4.0789 - mae: 4.0789\n",
      "Epoch 88/100\n",
      "2/2 [==============================] - 0s 5ms/step - loss: 1.4313 - mae: 1.4313\n",
      "Epoch 89/100\n",
      "2/2 [==============================] - 0s 11ms/step - loss: 2.4249 - mae: 2.4249\n",
      "Epoch 90/100\n",
      "2/2 [==============================] - 0s 6ms/step - loss: 1.2375 - mae: 1.2375\n",
      "Epoch 91/100\n",
      "2/2 [==============================] - 0s 10ms/step - loss: 1.3968 - mae: 1.3968\n",
      "Epoch 92/100\n",
      "2/2 [==============================] - 0s 5ms/step - loss: 0.6985 - mae: 0.6985\n",
      "Epoch 93/100\n",
      "2/2 [==============================] - 0s 13ms/step - loss: 1.8116 - mae: 1.8116\n",
      "Epoch 94/100\n",
      "2/2 [==============================] - 0s 4ms/step - loss: 0.6167 - mae: 0.6167\n",
      "Epoch 95/100\n",
      "2/2 [==============================] - 0s 13ms/step - loss: 1.2792 - mae: 1.2792\n",
      "Epoch 96/100\n",
      "2/2 [==============================] - 0s 5ms/step - loss: 1.3240 - mae: 1.3240\n",
      "Epoch 97/100\n",
      "2/2 [==============================] - 0s 8ms/step - loss: 0.8644 - mae: 0.8644\n",
      "Epoch 98/100\n",
      "2/2 [==============================] - 0s 6ms/step - loss: 0.4803 - mae: 0.4803\n",
      "Epoch 99/100\n",
      "2/2 [==============================] - 0s 5ms/step - loss: 0.0748 - mae: 0.0748\n",
      "Epoch 100/100\n",
      "2/2 [==============================] - 0s 6ms/step - loss: 0.9319 - mae: 0.9319\n",
      "1/1 [==============================] - 0s 81ms/step\n"
     ]
    },
    {
     "data": {
      "text/plain": [
       "array([[26.92467]], dtype=float32)"
      ]
     },
     "execution_count": 48,
     "metadata": {},
     "output_type": "execute_result"
    }
   ],
   "source": [
    "# 1. Create model\n",
    "model = tf.keras.Sequential([\n",
    "    tf.keras.layers.Dense(50, activation=None),\n",
    "    tf.keras.layers.Dense(1)\n",
    "])\n",
    "\n",
    "# 2. Model compile\n",
    "model.compile(\n",
    "    loss=tf.keras.losses.mae, # mae = mean absolute error\n",
    "    optimizer=tf.keras.optimizers.Adam(learning_rate=0.01), # SGD = stochastic gradient descent\n",
    "    metrics=[\"mae\"]\n",
    ")\n",
    "\n",
    "# 3. Fit the model\n",
    "#model.fit(X,Y, epochs=5)\n",
    "model.fit(tf.expand_dims(x, axis=-1), y, epochs=100)\n",
    "\n",
    "model.predict([17.0])"
   ]
  },
  {
   "cell_type": "code",
   "execution_count": 43,
   "metadata": {},
   "outputs": [
    {
     "data": {
      "text/plain": [
       "<tf.Tensor: shape=(50,), dtype=int32, numpy=\n",
       "array([-100,  -96,  -92,  -88,  -84,  -80,  -76,  -72,  -68,  -64,  -60,\n",
       "        -56,  -52,  -48,  -44,  -40,  -36,  -32,  -28,  -24,  -20,  -16,\n",
       "        -12,   -8,   -4,    0,    4,    8,   12,   16,   20,   24,   28,\n",
       "         32,   36,   40,   44,   48,   52,   56,   60,   64,   68,   72,\n",
       "         76,   80,   84,   88,   92,   96])>"
      ]
     },
     "execution_count": 43,
     "metadata": {},
     "output_type": "execute_result"
    }
   ],
   "source": [
    "# Make a bigger data set\n",
    "x = tf.range(-100, 100, 4)\n",
    "x"
   ]
  },
  {
   "cell_type": "code",
   "execution_count": 45,
   "metadata": {},
   "outputs": [
    {
     "data": {
      "text/plain": [
       "<tf.Tensor: shape=(50,), dtype=int32, numpy=\n",
       "array([-90, -86, -82, -78, -74, -70, -66, -62, -58, -54, -50, -46, -42,\n",
       "       -38, -34, -30, -26, -22, -18, -14, -10,  -6,  -2,   2,   6,  10,\n",
       "        14,  18,  22,  26,  30,  34,  38,  42,  46,  50,  54,  58,  62,\n",
       "        66,  70,  74,  78,  82,  86,  90,  94,  98, 102, 106])>"
      ]
     },
     "execution_count": 45,
     "metadata": {},
     "output_type": "execute_result"
    }
   ],
   "source": [
    "# Add the labels\n",
    "y = x + 10\n",
    "y"
   ]
  },
  {
   "cell_type": "code",
   "execution_count": 47,
   "metadata": {},
   "outputs": [
    {
     "data": {
      "text/plain": [
       "<matplotlib.collections.PathCollection at 0x1e69f18e830>"
      ]
     },
     "execution_count": 47,
     "metadata": {},
     "output_type": "execute_result"
    },
    {
     "data": {
      "image/png": "[encoded data removed]",
      "text/plain": [
       "<Figure size 432x288 with 1 Axes>"
      ]
     },
     "metadata": {
      "needs_background": "light"
     },
     "output_type": "display_data"
    }
   ],
   "source": [
    "import matplotlib.pyplot as plt\n",
    "\n",
    "plt.scatter(x,y)\n"
   ]
  },
  {
   "cell_type": "markdown",
   "metadata": {},
   "source": [
    "### Split the data\n",
    "\n",
    "* Training data - 70-80%\n",
    "* Validation set - 10-15%\n",
    "* Test set - 10-15%\n"
   ]
  },
  {
   "cell_type": "code",
   "execution_count": 52,
   "metadata": {},
   "outputs": [
    {
     "data": {
      "text/plain": [
       "(40, 10)"
      ]
     },
     "execution_count": 52,
     "metadata": {},
     "output_type": "execute_result"
    }
   ],
   "source": [
    "x_train = x[:40] # 80% of the data\n",
    "y_train = y[:40]\n",
    "\n",
    "x_test = x[40:] # 20% of the data\n",
    "y_test = y[40:]\n",
    "\n",
    "len(x_train), len(x_test)"
   ]
  },
  {
   "cell_type": "code",
   "execution_count": 54,
   "metadata": {},
   "outputs": [
    {
     "data": {
      "image/png": "[encoded data removed]",
      "text/plain": [
       "<Figure size 720x504 with 1 Axes>"
      ]
     },
     "metadata": {
      "needs_background": "light"
     },
     "output_type": "display_data"
    }
   ],
   "source": [
    "import matplotlib.pyplot as plt\n",
    "\n",
    "plt.figure(figsize=(10,7))\n",
    "plt.scatter(x_train, y_train, c=\"b\", label=\"Training data\")\n",
    "plt.scatter(x_test, y_test, c=\"g\", label=\"Test data\")\n",
    "plt.legend();\n"
   ]
  }
 ],
 "metadata": {
  "kernelspec": {
   "display_name": "Python 3.10.6 64-bit",
   "language": "python",
   "name": "python3"
  },
  "language_info": {
   "codemirror_mode": {
    "name": "ipython",
    "version": 3
   },
   "file_extension": ".py",
   "mimetype": "text/x-python",
   "name": "python",
   "nbconvert_exporter": "python",
   "pygments_lexer": "ipython3",
   "version": "3.10.6"
  },
  "orig_nbformat": 4,
  "vscode": {
   "interpreter": {
    "hash": "369f2c481f4da34e4445cda3fffd2e751bd1c4d706f27375911949ba6bb62e1c"
   }
  }
 },
 "nbformat": 4,
 "nbformat_minor": 2
}
